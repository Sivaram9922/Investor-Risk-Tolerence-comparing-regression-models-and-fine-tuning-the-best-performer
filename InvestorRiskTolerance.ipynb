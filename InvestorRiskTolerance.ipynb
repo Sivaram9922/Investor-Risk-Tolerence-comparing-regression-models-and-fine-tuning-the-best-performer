{
  "nbformat": 4,
  "nbformat_minor": 0,
  "metadata": {
    "kernelspec": {
      "display_name": "Python 3",
      "language": "python",
      "name": "python3"
    },
    "language_info": {
      "codemirror_mode": {
        "name": "ipython",
        "version": 3
      },
      "file_extension": ".py",
      "mimetype": "text/x-python",
      "name": "python",
      "nbconvert_exporter": "python",
      "pygments_lexer": "ipython3",
      "version": "3.8.8"
    },
    "colab": {
      "name": "project.ipynb",
      "provenance": [],
      "collapsed_sections": []
    }
  },
  "cells": [
    {
      "cell_type": "code",
      "metadata": {
        "id": "s8jRZR2X1gE7"
      },
      "source": [
        "import pandas as pd\n",
        "import numpy as np\n",
        "import seaborn as sns\n",
        "import matplotlib.pyplot as plt\n",
        "from matplotlib import pyplot\n",
        "from sklearn.linear_model import LinearRegression,Lasso,ElasticNet\n",
        "from sklearn.svm import SVR\n",
        "from sklearn.tree import DecisionTreeRegressor\n",
        "from sklearn.ensemble import RandomForestRegressor,AdaBoostRegressor,GradientBoostingRegressor,ExtraTreesRegressor\n",
        "from sklearn.neighbors import KNeighborsRegressor\n",
        "from sklearn.neural_network import MLPRegressor\n",
        "from sklearn.model_selection import train_test_split as tts\n",
        "from sklearn.metrics import mean_squared_error,f1_score\n",
        "from sklearn.model_selection import KFold\n",
        "from sklearn.model_selection import cross_val_score\n",
        "from sklearn.preprocessing import StandardScaler,MinMaxScaler\n",
        "from tensorflow.keras import Sequential\n",
        "from tensorflow.keras.utils import to_categorical\n",
        "from tensorflow.keras.layers import Input,Dense,Dropout"
      ],
      "execution_count": null,
      "outputs": []
    },
    {
      "cell_type": "code",
      "metadata": {
        "id": "5PBeLdpm1gE_"
      },
      "source": [
        "data = pd.read_excel('SCFP2009panel.xlsx')"
      ],
      "execution_count": null,
      "outputs": []
    },
    {
      "cell_type": "code",
      "metadata": {
        "id": "Fff5OApS1gFA",
        "outputId": "6a74d15c-cf09-4d79-e931-b01c319e806f"
      },
      "source": [
        "data.shape"
      ],
      "execution_count": null,
      "outputs": [
        {
          "output_type": "execute_result",
          "data": {
            "text/plain": [
              "(19285, 515)"
            ]
          },
          "metadata": {
            "tags": []
          },
          "execution_count": 162
        }
      ]
    },
    {
      "cell_type": "code",
      "metadata": {
        "id": "XRQtbLyE1gFB"
      },
      "source": [
        "data['riskless_07'] = data['LIQ07']+data['CDS07']+data['SAVBND07']+data['CASHLI07']\n",
        "data['risky07'] = data['NMMF07']+data['STOCKS07']+data['BOND07']\n",
        "data['riskless_09'] = data['LIQ09'] + data['CDS09'] + data['SAVBND09'] + data['CASHLI09']\n",
        "data['risky09'] = data['NMMF09'] + data['STOCKS09'] + data['BOND09']"
      ],
      "execution_count": null,
      "outputs": []
    },
    {
      "cell_type": "code",
      "metadata": {
        "id": "o-42eOUm1gFC"
      },
      "source": [
        "data['risk_tolerence07'] = data['risky07']/(data['risky07']+data['riskless_07'])\n",
        "\n",
        "Average_SI_2007=1478\n",
        "Average_SI_2009=948\n",
        "\n",
        "data['risk_tolerence09'] = (data['risky09']/(data['risky09']+data['riskless_09']))*(Average_SI_2009/Average_SI_2007)"
      ],
      "execution_count": null,
      "outputs": []
    },
    {
      "cell_type": "code",
      "metadata": {
        "id": "kHDglOvZ1gFC",
        "outputId": "789e92bd-1d90-4ba0-d1a4-48f6c3e2f995"
      },
      "source": [
        "data.head()"
      ],
      "execution_count": null,
      "outputs": [
        {
          "output_type": "execute_result",
          "data": {
            "text/html": [
              "<div>\n",
              "<style scoped>\n",
              "    .dataframe tbody tr th:only-of-type {\n",
              "        vertical-align: middle;\n",
              "    }\n",
              "\n",
              "    .dataframe tbody tr th {\n",
              "        vertical-align: top;\n",
              "    }\n",
              "\n",
              "    .dataframe thead th {\n",
              "        text-align: right;\n",
              "    }\n",
              "</style>\n",
              "<table border=\"1\" class=\"dataframe\">\n",
              "  <thead>\n",
              "    <tr style=\"text-align: right;\">\n",
              "      <th></th>\n",
              "      <th>YY1</th>\n",
              "      <th>Y1</th>\n",
              "      <th>WGT09</th>\n",
              "      <th>AGE07</th>\n",
              "      <th>AGECL07</th>\n",
              "      <th>EDUC07</th>\n",
              "      <th>EDCL07</th>\n",
              "      <th>MARRIED07</th>\n",
              "      <th>KIDS07</th>\n",
              "      <th>LIFECL07</th>\n",
              "      <th>...</th>\n",
              "      <th>TRANSFOTHINCPCT</th>\n",
              "      <th>PSAVINGPCT</th>\n",
              "      <th>LEVERAGEPCT</th>\n",
              "      <th>I</th>\n",
              "      <th>riskless_07</th>\n",
              "      <th>risky07</th>\n",
              "      <th>riskless_09</th>\n",
              "      <th>risky09</th>\n",
              "      <th>risk_tolerence07</th>\n",
              "      <th>risk_tolerence09</th>\n",
              "    </tr>\n",
              "  </thead>\n",
              "  <tbody>\n",
              "    <tr>\n",
              "      <th>0</th>\n",
              "      <td>1</td>\n",
              "      <td>11</td>\n",
              "      <td>11668.134198</td>\n",
              "      <td>47</td>\n",
              "      <td>3</td>\n",
              "      <td>12</td>\n",
              "      <td>2</td>\n",
              "      <td>1</td>\n",
              "      <td>0</td>\n",
              "      <td>2</td>\n",
              "      <td>...</td>\n",
              "      <td>0.0</td>\n",
              "      <td>93.125197</td>\n",
              "      <td>270.403054</td>\n",
              "      <td>57</td>\n",
              "      <td>7994.813847</td>\n",
              "      <td>0.0</td>\n",
              "      <td>16000</td>\n",
              "      <td>17000</td>\n",
              "      <td>0.0</td>\n",
              "      <td>0.330422</td>\n",
              "    </tr>\n",
              "    <tr>\n",
              "      <th>1</th>\n",
              "      <td>1</td>\n",
              "      <td>12</td>\n",
              "      <td>11823.456494</td>\n",
              "      <td>47</td>\n",
              "      <td>3</td>\n",
              "      <td>12</td>\n",
              "      <td>2</td>\n",
              "      <td>1</td>\n",
              "      <td>0</td>\n",
              "      <td>2</td>\n",
              "      <td>...</td>\n",
              "      <td>0.0</td>\n",
              "      <td>93.125197</td>\n",
              "      <td>249.593620</td>\n",
              "      <td>57</td>\n",
              "      <td>7994.813847</td>\n",
              "      <td>0.0</td>\n",
              "      <td>19000</td>\n",
              "      <td>18000</td>\n",
              "      <td>0.0</td>\n",
              "      <td>0.312036</td>\n",
              "    </tr>\n",
              "    <tr>\n",
              "      <th>2</th>\n",
              "      <td>1</td>\n",
              "      <td>13</td>\n",
              "      <td>11913.228354</td>\n",
              "      <td>47</td>\n",
              "      <td>3</td>\n",
              "      <td>12</td>\n",
              "      <td>2</td>\n",
              "      <td>1</td>\n",
              "      <td>0</td>\n",
              "      <td>2</td>\n",
              "      <td>...</td>\n",
              "      <td>0.0</td>\n",
              "      <td>93.125197</td>\n",
              "      <td>209.233358</td>\n",
              "      <td>57</td>\n",
              "      <td>7984.457871</td>\n",
              "      <td>0.0</td>\n",
              "      <td>13000</td>\n",
              "      <td>12000</td>\n",
              "      <td>0.0</td>\n",
              "      <td>0.307876</td>\n",
              "    </tr>\n",
              "    <tr>\n",
              "      <th>3</th>\n",
              "      <td>1</td>\n",
              "      <td>14</td>\n",
              "      <td>11929.394266</td>\n",
              "      <td>47</td>\n",
              "      <td>3</td>\n",
              "      <td>12</td>\n",
              "      <td>2</td>\n",
              "      <td>1</td>\n",
              "      <td>0</td>\n",
              "      <td>2</td>\n",
              "      <td>...</td>\n",
              "      <td>0.0</td>\n",
              "      <td>93.125197</td>\n",
              "      <td>209.273158</td>\n",
              "      <td>57</td>\n",
              "      <td>7984.457871</td>\n",
              "      <td>0.0</td>\n",
              "      <td>25000</td>\n",
              "      <td>13000</td>\n",
              "      <td>0.0</td>\n",
              "      <td>0.219429</td>\n",
              "    </tr>\n",
              "    <tr>\n",
              "      <th>4</th>\n",
              "      <td>1</td>\n",
              "      <td>15</td>\n",
              "      <td>11917.722907</td>\n",
              "      <td>47</td>\n",
              "      <td>3</td>\n",
              "      <td>12</td>\n",
              "      <td>2</td>\n",
              "      <td>1</td>\n",
              "      <td>0</td>\n",
              "      <td>2</td>\n",
              "      <td>...</td>\n",
              "      <td>0.0</td>\n",
              "      <td>93.125197</td>\n",
              "      <td>232.690767</td>\n",
              "      <td>57</td>\n",
              "      <td>7994.813847</td>\n",
              "      <td>0.0</td>\n",
              "      <td>17000</td>\n",
              "      <td>12000</td>\n",
              "      <td>0.0</td>\n",
              "      <td>0.265410</td>\n",
              "    </tr>\n",
              "  </tbody>\n",
              "</table>\n",
              "<p>5 rows × 521 columns</p>\n",
              "</div>"
            ],
            "text/plain": [
              "   YY1  Y1         WGT09  AGE07  AGECL07  EDUC07  EDCL07  MARRIED07  KIDS07  \\\n",
              "0    1  11  11668.134198     47        3      12       2          1       0   \n",
              "1    1  12  11823.456494     47        3      12       2          1       0   \n",
              "2    1  13  11913.228354     47        3      12       2          1       0   \n",
              "3    1  14  11929.394266     47        3      12       2          1       0   \n",
              "4    1  15  11917.722907     47        3      12       2          1       0   \n",
              "\n",
              "   LIFECL07  ...  TRANSFOTHINCPCT  PSAVINGPCT  LEVERAGEPCT   I  riskless_07  \\\n",
              "0         2  ...              0.0   93.125197   270.403054  57  7994.813847   \n",
              "1         2  ...              0.0   93.125197   249.593620  57  7994.813847   \n",
              "2         2  ...              0.0   93.125197   209.233358  57  7984.457871   \n",
              "3         2  ...              0.0   93.125197   209.273158  57  7984.457871   \n",
              "4         2  ...              0.0   93.125197   232.690767  57  7994.813847   \n",
              "\n",
              "   risky07  riskless_09  risky09  risk_tolerence07  risk_tolerence09  \n",
              "0      0.0        16000    17000               0.0          0.330422  \n",
              "1      0.0        19000    18000               0.0          0.312036  \n",
              "2      0.0        13000    12000               0.0          0.307876  \n",
              "3      0.0        25000    13000               0.0          0.219429  \n",
              "4      0.0        17000    12000               0.0          0.265410  \n",
              "\n",
              "[5 rows x 521 columns]"
            ]
          },
          "metadata": {
            "tags": []
          },
          "execution_count": 165
        }
      ]
    },
    {
      "cell_type": "code",
      "metadata": {
        "id": "EZ4BQN3O1gFC"
      },
      "source": [
        "data['percentage_change'] = np.abs(data['risk_tolerence09']/data['risk_tolerence07']-1)\n",
        "data = data.dropna(axis=0)\n",
        "data = data[~data.isin([np.nan, np.inf, -np.inf]).any(1)]"
      ],
      "execution_count": null,
      "outputs": []
    },
    {
      "cell_type": "code",
      "metadata": {
        "id": "WkgS6V6p1gFD",
        "outputId": "225571da-9782-4476-f776-a07542b0f4ab"
      },
      "source": [
        "sns.distplot(data['risk_tolerence07'], hist=True, kde=False,\n",
        "bins=int(180/5), color = 'blue',\n",
        "hist_kws={'edgecolor':'black'})"
      ],
      "execution_count": null,
      "outputs": [
        {
          "output_type": "stream",
          "text": [
            "C:\\Users\\sivar\\anaconda3\\envs\\ANN\\lib\\site-packages\\seaborn\\distributions.py:2557: FutureWarning: `distplot` is a deprecated function and will be removed in a future version. Please adapt your code to use either `displot` (a figure-level function with similar flexibility) or `histplot` (an axes-level function for histograms).\n",
            "  warnings.warn(msg, FutureWarning)\n"
          ],
          "name": "stderr"
        },
        {
          "output_type": "execute_result",
          "data": {
            "text/plain": [
              "<AxesSubplot:xlabel='risk_tolerence07'>"
            ]
          },
          "metadata": {
            "tags": []
          },
          "execution_count": 167
        },
        {
          "output_type": "display_data",
          "data": {
            "image/png": "[encoded data removed]",
            "text/plain": [
              "<Figure size 432x288 with 1 Axes>"
            ]
          },
          "metadata": {
            "tags": [],
            "needs_background": "light"
          }
        }
      ]
    },
    {
      "cell_type": "code",
      "metadata": {
        "id": "bb7cWqnv1gFD",
        "outputId": "34b6bc31-2c83-4d30-a8f4-4b73bed1527c"
      },
      "source": [
        "sns.distplot(data['risk_tolerence09'], hist=True, kde=False,\n",
        "bins=int(180/5), color = 'red',\n",
        "hist_kws={'edgecolor':'black'})"
      ],
      "execution_count": null,
      "outputs": [
        {
          "output_type": "execute_result",
          "data": {
            "text/plain": [
              "<AxesSubplot:xlabel='risk_tolerence09'>"
            ]
          },
          "metadata": {
            "tags": []
          },
          "execution_count": 168
        },
        {
          "output_type": "display_data",
          "data": {
            "image/png": "[encoded data removed]",
            "text/plain": [
              "<Figure size 432x288 with 1 Axes>"
            ]
          },
          "metadata": {
            "tags": [],
            "needs_background": "light"
          }
        }
      ]
    },
    {
      "cell_type": "code",
      "metadata": {
        "id": "rcjfARXe1gFE"
      },
      "source": [
        "dataset = pd.DataFrame(data[data['percentage_change']<=.1])\n",
        "dataset['TrueRiskTolerance'] = (dataset['risk_tolerence07'] + dataset['risk_tolerence09'])/2"
      ],
      "execution_count": null,
      "outputs": []
    },
    {
      "cell_type": "code",
      "metadata": {
        "scrolled": true,
        "id": "eWS0NlDI1gFE",
        "outputId": "a816af5b-f4d7-4c30-90fb-c7a3af8fd518"
      },
      "source": [
        "\n",
        "dataset.index =np.arange(1,len(dataset)+1)\n",
        "dataset"
      ],
      "execution_count": null,
      "outputs": [
        {
          "output_type": "execute_result",
          "data": {
            "text/html": [
              "<div>\n",
              "<style scoped>\n",
              "    .dataframe tbody tr th:only-of-type {\n",
              "        vertical-align: middle;\n",
              "    }\n",
              "\n",
              "    .dataframe tbody tr th {\n",
              "        vertical-align: top;\n",
              "    }\n",
              "\n",
              "    .dataframe thead th {\n",
              "        text-align: right;\n",
              "    }\n",
              "</style>\n",
              "<table border=\"1\" class=\"dataframe\">\n",
              "  <thead>\n",
              "    <tr style=\"text-align: right;\">\n",
              "      <th></th>\n",
              "      <th>YY1</th>\n",
              "      <th>Y1</th>\n",
              "      <th>WGT09</th>\n",
              "      <th>AGE07</th>\n",
              "      <th>AGECL07</th>\n",
              "      <th>EDUC07</th>\n",
              "      <th>EDCL07</th>\n",
              "      <th>MARRIED07</th>\n",
              "      <th>KIDS07</th>\n",
              "      <th>LIFECL07</th>\n",
              "      <th>...</th>\n",
              "      <th>LEVERAGEPCT</th>\n",
              "      <th>I</th>\n",
              "      <th>riskless_07</th>\n",
              "      <th>risky07</th>\n",
              "      <th>riskless_09</th>\n",
              "      <th>risky09</th>\n",
              "      <th>risk_tolerence07</th>\n",
              "      <th>risk_tolerence09</th>\n",
              "      <th>percentage_change</th>\n",
              "      <th>TrueRiskTolerance</th>\n",
              "    </tr>\n",
              "  </thead>\n",
              "  <tbody>\n",
              "    <tr>\n",
              "      <th>1</th>\n",
              "      <td>14</td>\n",
              "      <td>141</td>\n",
              "      <td>13732.681713</td>\n",
              "      <td>77</td>\n",
              "      <td>6</td>\n",
              "      <td>12</td>\n",
              "      <td>2</td>\n",
              "      <td>1</td>\n",
              "      <td>0</td>\n",
              "      <td>6</td>\n",
              "      <td>...</td>\n",
              "      <td>-35.900702</td>\n",
              "      <td>57</td>\n",
              "      <td>1.170225e+04</td>\n",
              "      <td>2.899673e+03</td>\n",
              "      <td>11000</td>\n",
              "      <td>5000</td>\n",
              "      <td>0.198582</td>\n",
              "      <td>0.200440</td>\n",
              "      <td>0.009357</td>\n",
              "      <td>0.199511</td>\n",
              "    </tr>\n",
              "    <tr>\n",
              "      <th>2</th>\n",
              "      <td>95</td>\n",
              "      <td>951</td>\n",
              "      <td>43.840398</td>\n",
              "      <td>55</td>\n",
              "      <td>4</td>\n",
              "      <td>17</td>\n",
              "      <td>4</td>\n",
              "      <td>1</td>\n",
              "      <td>1</td>\n",
              "      <td>5</td>\n",
              "      <td>...</td>\n",
              "      <td>-54.021909</td>\n",
              "      <td>57</td>\n",
              "      <td>1.102911e+06</td>\n",
              "      <td>2.226535e+06</td>\n",
              "      <td>1354500</td>\n",
              "      <td>30550000</td>\n",
              "      <td>0.668740</td>\n",
              "      <td>0.614176</td>\n",
              "      <td>0.081592</td>\n",
              "      <td>0.641458</td>\n",
              "    </tr>\n",
              "    <tr>\n",
              "      <th>3</th>\n",
              "      <td>253</td>\n",
              "      <td>2533</td>\n",
              "      <td>297.850586</td>\n",
              "      <td>85</td>\n",
              "      <td>6</td>\n",
              "      <td>17</td>\n",
              "      <td>4</td>\n",
              "      <td>1</td>\n",
              "      <td>0</td>\n",
              "      <td>5</td>\n",
              "      <td>...</td>\n",
              "      <td>0.000000</td>\n",
              "      <td>57</td>\n",
              "      <td>2.148865e+06</td>\n",
              "      <td>3.075725e+06</td>\n",
              "      <td>70000</td>\n",
              "      <td>824000</td>\n",
              "      <td>0.588702</td>\n",
              "      <td>0.591185</td>\n",
              "      <td>0.004219</td>\n",
              "      <td>0.589943</td>\n",
              "    </tr>\n",
              "    <tr>\n",
              "      <th>4</th>\n",
              "      <td>270</td>\n",
              "      <td>2701</td>\n",
              "      <td>7184.506057</td>\n",
              "      <td>40</td>\n",
              "      <td>2</td>\n",
              "      <td>12</td>\n",
              "      <td>2</td>\n",
              "      <td>1</td>\n",
              "      <td>3</td>\n",
              "      <td>3</td>\n",
              "      <td>...</td>\n",
              "      <td>-100.000000</td>\n",
              "      <td>57</td>\n",
              "      <td>2.122975e+03</td>\n",
              "      <td>1.656956e+03</td>\n",
              "      <td>12300</td>\n",
              "      <td>25000</td>\n",
              "      <td>0.438356</td>\n",
              "      <td>0.429898</td>\n",
              "      <td>0.019296</td>\n",
              "      <td>0.434127</td>\n",
              "    </tr>\n",
              "    <tr>\n",
              "      <th>5</th>\n",
              "      <td>279</td>\n",
              "      <td>2794</td>\n",
              "      <td>4340.608277</td>\n",
              "      <td>70</td>\n",
              "      <td>5</td>\n",
              "      <td>12</td>\n",
              "      <td>2</td>\n",
              "      <td>1</td>\n",
              "      <td>0</td>\n",
              "      <td>5</td>\n",
              "      <td>...</td>\n",
              "      <td>-53.466186</td>\n",
              "      <td>57</td>\n",
              "      <td>1.788477e+05</td>\n",
              "      <td>5.488668e+04</td>\n",
              "      <td>331500</td>\n",
              "      <td>175000</td>\n",
              "      <td>0.234825</td>\n",
              "      <td>0.221612</td>\n",
              "      <td>0.056269</td>\n",
              "      <td>0.228218</td>\n",
              "    </tr>\n",
              "    <tr>\n",
              "      <th>...</th>\n",
              "      <td>...</td>\n",
              "      <td>...</td>\n",
              "      <td>...</td>\n",
              "      <td>...</td>\n",
              "      <td>...</td>\n",
              "      <td>...</td>\n",
              "      <td>...</td>\n",
              "      <td>...</td>\n",
              "      <td>...</td>\n",
              "      <td>...</td>\n",
              "      <td>...</td>\n",
              "      <td>...</td>\n",
              "      <td>...</td>\n",
              "      <td>...</td>\n",
              "      <td>...</td>\n",
              "      <td>...</td>\n",
              "      <td>...</td>\n",
              "      <td>...</td>\n",
              "      <td>...</td>\n",
              "      <td>...</td>\n",
              "      <td>...</td>\n",
              "    </tr>\n",
              "    <tr>\n",
              "      <th>351</th>\n",
              "      <td>4402</td>\n",
              "      <td>44021</td>\n",
              "      <td>5873.843391</td>\n",
              "      <td>53</td>\n",
              "      <td>3</td>\n",
              "      <td>16</td>\n",
              "      <td>4</td>\n",
              "      <td>1</td>\n",
              "      <td>0</td>\n",
              "      <td>2</td>\n",
              "      <td>...</td>\n",
              "      <td>13.545972</td>\n",
              "      <td>57</td>\n",
              "      <td>2.278315e+04</td>\n",
              "      <td>1.242717e+04</td>\n",
              "      <td>19000</td>\n",
              "      <td>23000</td>\n",
              "      <td>0.352941</td>\n",
              "      <td>0.351247</td>\n",
              "      <td>0.004801</td>\n",
              "      <td>0.352094</td>\n",
              "    </tr>\n",
              "    <tr>\n",
              "      <th>352</th>\n",
              "      <td>4402</td>\n",
              "      <td>44022</td>\n",
              "      <td>5939.807789</td>\n",
              "      <td>53</td>\n",
              "      <td>3</td>\n",
              "      <td>16</td>\n",
              "      <td>4</td>\n",
              "      <td>1</td>\n",
              "      <td>0</td>\n",
              "      <td>2</td>\n",
              "      <td>...</td>\n",
              "      <td>-9.418465</td>\n",
              "      <td>57</td>\n",
              "      <td>2.174755e+04</td>\n",
              "      <td>1.242717e+04</td>\n",
              "      <td>19000</td>\n",
              "      <td>23000</td>\n",
              "      <td>0.363636</td>\n",
              "      <td>0.351247</td>\n",
              "      <td>0.034071</td>\n",
              "      <td>0.357442</td>\n",
              "    </tr>\n",
              "    <tr>\n",
              "      <th>353</th>\n",
              "      <td>4402</td>\n",
              "      <td>44023</td>\n",
              "      <td>5970.026444</td>\n",
              "      <td>53</td>\n",
              "      <td>3</td>\n",
              "      <td>16</td>\n",
              "      <td>4</td>\n",
              "      <td>1</td>\n",
              "      <td>0</td>\n",
              "      <td>2</td>\n",
              "      <td>...</td>\n",
              "      <td>-18.158422</td>\n",
              "      <td>57</td>\n",
              "      <td>2.278315e+04</td>\n",
              "      <td>1.242717e+04</td>\n",
              "      <td>19000</td>\n",
              "      <td>23000</td>\n",
              "      <td>0.352941</td>\n",
              "      <td>0.351247</td>\n",
              "      <td>0.004801</td>\n",
              "      <td>0.352094</td>\n",
              "    </tr>\n",
              "    <tr>\n",
              "      <th>354</th>\n",
              "      <td>4402</td>\n",
              "      <td>44024</td>\n",
              "      <td>5993.081847</td>\n",
              "      <td>53</td>\n",
              "      <td>3</td>\n",
              "      <td>16</td>\n",
              "      <td>4</td>\n",
              "      <td>1</td>\n",
              "      <td>0</td>\n",
              "      <td>2</td>\n",
              "      <td>...</td>\n",
              "      <td>-21.165892</td>\n",
              "      <td>57</td>\n",
              "      <td>2.278315e+04</td>\n",
              "      <td>1.242717e+04</td>\n",
              "      <td>19000</td>\n",
              "      <td>23000</td>\n",
              "      <td>0.352941</td>\n",
              "      <td>0.351247</td>\n",
              "      <td>0.004801</td>\n",
              "      <td>0.352094</td>\n",
              "    </tr>\n",
              "    <tr>\n",
              "      <th>355</th>\n",
              "      <td>4402</td>\n",
              "      <td>44025</td>\n",
              "      <td>5955.134573</td>\n",
              "      <td>53</td>\n",
              "      <td>3</td>\n",
              "      <td>16</td>\n",
              "      <td>4</td>\n",
              "      <td>1</td>\n",
              "      <td>0</td>\n",
              "      <td>2</td>\n",
              "      <td>...</td>\n",
              "      <td>31.458701</td>\n",
              "      <td>57</td>\n",
              "      <td>2.278315e+04</td>\n",
              "      <td>1.242717e+04</td>\n",
              "      <td>19000</td>\n",
              "      <td>23000</td>\n",
              "      <td>0.352941</td>\n",
              "      <td>0.351247</td>\n",
              "      <td>0.004801</td>\n",
              "      <td>0.352094</td>\n",
              "    </tr>\n",
              "  </tbody>\n",
              "</table>\n",
              "<p>355 rows × 523 columns</p>\n",
              "</div>"
            ],
            "text/plain": [
              "      YY1     Y1         WGT09  AGE07  AGECL07  EDUC07  EDCL07  MARRIED07  \\\n",
              "1      14    141  13732.681713     77        6      12       2          1   \n",
              "2      95    951     43.840398     55        4      17       4          1   \n",
              "3     253   2533    297.850586     85        6      17       4          1   \n",
              "4     270   2701   7184.506057     40        2      12       2          1   \n",
              "5     279   2794   4340.608277     70        5      12       2          1   \n",
              "..    ...    ...           ...    ...      ...     ...     ...        ...   \n",
              "351  4402  44021   5873.843391     53        3      16       4          1   \n",
              "352  4402  44022   5939.807789     53        3      16       4          1   \n",
              "353  4402  44023   5970.026444     53        3      16       4          1   \n",
              "354  4402  44024   5993.081847     53        3      16       4          1   \n",
              "355  4402  44025   5955.134573     53        3      16       4          1   \n",
              "\n",
              "     KIDS07  LIFECL07  ...  LEVERAGEPCT   I   riskless_07       risky07  \\\n",
              "1         0         6  ...   -35.900702  57  1.170225e+04  2.899673e+03   \n",
              "2         1         5  ...   -54.021909  57  1.102911e+06  2.226535e+06   \n",
              "3         0         5  ...     0.000000  57  2.148865e+06  3.075725e+06   \n",
              "4         3         3  ...  -100.000000  57  2.122975e+03  1.656956e+03   \n",
              "5         0         5  ...   -53.466186  57  1.788477e+05  5.488668e+04   \n",
              "..      ...       ...  ...          ...  ..           ...           ...   \n",
              "351       0         2  ...    13.545972  57  2.278315e+04  1.242717e+04   \n",
              "352       0         2  ...    -9.418465  57  2.174755e+04  1.242717e+04   \n",
              "353       0         2  ...   -18.158422  57  2.278315e+04  1.242717e+04   \n",
              "354       0         2  ...   -21.165892  57  2.278315e+04  1.242717e+04   \n",
              "355       0         2  ...    31.458701  57  2.278315e+04  1.242717e+04   \n",
              "\n",
              "     riskless_09   risky09  risk_tolerence07  risk_tolerence09  \\\n",
              "1          11000      5000          0.198582          0.200440   \n",
              "2        1354500  30550000          0.668740          0.614176   \n",
              "3          70000    824000          0.588702          0.591185   \n",
              "4          12300     25000          0.438356          0.429898   \n",
              "5         331500    175000          0.234825          0.221612   \n",
              "..           ...       ...               ...               ...   \n",
              "351        19000     23000          0.352941          0.351247   \n",
              "352        19000     23000          0.363636          0.351247   \n",
              "353        19000     23000          0.352941          0.351247   \n",
              "354        19000     23000          0.352941          0.351247   \n",
              "355        19000     23000          0.352941          0.351247   \n",
              "\n",
              "     percentage_change  TrueRiskTolerance  \n",
              "1             0.009357           0.199511  \n",
              "2             0.081592           0.641458  \n",
              "3             0.004219           0.589943  \n",
              "4             0.019296           0.434127  \n",
              "5             0.056269           0.228218  \n",
              "..                 ...                ...  \n",
              "351           0.004801           0.352094  \n",
              "352           0.034071           0.357442  \n",
              "353           0.004801           0.352094  \n",
              "354           0.004801           0.352094  \n",
              "355           0.004801           0.352094  \n",
              "\n",
              "[355 rows x 523 columns]"
            ]
          },
          "metadata": {
            "tags": []
          },
          "execution_count": 170
        }
      ]
    },
    {
      "cell_type": "code",
      "metadata": {
        "id": "wMuOSx2M1gFF"
      },
      "source": [
        "imp_list = ['AGE07','EDCL07','MARRIED07','KIDS07','OCCAT107','INCOME07','RISK07','NETWORTH07','TrueRiskTolerance']\n",
        "drop_list = [col for col in dataset.columns if col not in imp_list]\n",
        "dataset.drop(labels=drop_list,axis=1,inplace=True)"
      ],
      "execution_count": null,
      "outputs": []
    },
    {
      "cell_type": "code",
      "metadata": {
        "id": "jYr5tSRF1gFF",
        "outputId": "59450167-7d75-442e-c124-3289aa6b509f"
      },
      "source": [
        "print(dataset)"
      ],
      "execution_count": null,
      "outputs": [
        {
          "output_type": "stream",
          "text": [
            "     AGE07  EDCL07  MARRIED07  KIDS07  OCCAT107      INCOME07  RISK07  \\\n",
            "1       77       2          1       0         3  3.141680e+04       4   \n",
            "2       55       4          1       1         2  2.779588e+06       2   \n",
            "3       85       4          1       0         2  3.727417e+05       4   \n",
            "4       40       2          1       3         1  5.324882e+04       3   \n",
            "5       70       2          1       0         2  3.716767e+04       3   \n",
            "..     ...     ...        ...     ...       ...           ...     ...   \n",
            "351     53       4          1       0         1  1.810460e+05       2   \n",
            "352     53       4          1       0         1  1.821109e+05       2   \n",
            "353     53       4          1       0         1  1.810460e+05       2   \n",
            "354     53       4          1       0         1  1.810460e+05       2   \n",
            "355     53       4          1       0         1  1.821109e+05       2   \n",
            "\n",
            "       NETWORTH07  TrueRiskTolerance  \n",
            "1    2.152490e+05           0.199511  \n",
            "2    4.964759e+07           0.641458  \n",
            "3    5.837768e+07           0.589943  \n",
            "4    2.688929e+05           0.434127  \n",
            "5    2.015066e+06           0.228218  \n",
            "..            ...                ...  \n",
            "351  7.580575e+05           0.352094  \n",
            "352  7.570219e+05           0.357442  \n",
            "353  7.580575e+05           0.352094  \n",
            "354  7.580575e+05           0.352094  \n",
            "355  7.580575e+05           0.352094  \n",
            "\n",
            "[355 rows x 9 columns]\n"
          ],
          "name": "stdout"
        }
      ]
    },
    {
      "cell_type": "code",
      "metadata": {
        "id": "hymd5KVv1gFF",
        "outputId": "dabdc094-0a36-46d7-e78a-418dcd941904"
      },
      "source": [
        "correlation = dataset.corr()\n",
        "plt.figure(figsize=(15,15))\n",
        "plt.title('Correlation Matrix')\n",
        "sns.heatmap(correlation, vmax=1, square=True,annot=True,cmap='cubehelix')"
      ],
      "execution_count": null,
      "outputs": [
        {
          "output_type": "execute_result",
          "data": {
            "text/plain": [
              "<AxesSubplot:title={'center':'Correlation Matrix'}>"
            ]
          },
          "metadata": {
            "tags": []
          },
          "execution_count": 173
        },
        {
          "output_type": "display_data",
          "data": {
            "image/png": "[encoded data removed]",
            "text/plain": [
              "<Figure size 1080x1080 with 2 Axes>"
            ]
          },
          "metadata": {
            "tags": [],
            "needs_background": "light"
          }
        }
      ]
    },
    {
      "cell_type": "code",
      "metadata": {
        "id": "BdFluV4p1gFG",
        "outputId": "d9b68542-cea1-442e-afa1-a3a9a6e62f72"
      },
      "source": [
        "y = dataset['TrueRiskTolerance']\n",
        "x = dataset.drop('TrueRiskTolerance',axis=1)\n",
        "x_train,x_test,y_train,y_test = tts(x,y,test_size=0.2,random_state=5)\n",
        "y_test"
      ],
      "execution_count": null,
      "outputs": [
        {
          "output_type": "execute_result",
          "data": {
            "text/plain": [
              "182    0.660660\n",
              "109    0.531733\n",
              "294    0.613872\n",
              "61     0.141236\n",
              "350    0.076191\n",
              "         ...   \n",
              "142    0.007258\n",
              "326    0.544304\n",
              "141    0.007654\n",
              "264    0.277928\n",
              "19     0.595579\n",
              "Name: TrueRiskTolerance, Length: 71, dtype: float64"
            ]
          },
          "metadata": {
            "tags": []
          },
          "execution_count": 174
        }
      ]
    },
    {
      "cell_type": "code",
      "metadata": {
        "id": "qh7bsZtA1gFG"
      },
      "source": [
        "all_models = []\n",
        "all_models.append(('LR',LinearRegression()))\n",
        "all_models.append(('KNN',KNeighborsRegressor()))\n",
        "all_models.append(('DTR', DecisionTreeRegressor()))\n",
        "all_models.append(('SVR', SVR()))\n",
        "all_models.append(('ABR', AdaBoostRegressor()))\n",
        "all_models.append(('GBR', GradientBoostingRegressor()))\n",
        "all_models.append(('RFR', RandomForestRegressor()))\n",
        "all_models.append(('ETR', ExtraTreesRegressor()))\n",
        "#all_models.append(('MLP',MLPRegressor))"
      ],
      "execution_count": null,
      "outputs": []
    },
    {
      "cell_type": "code",
      "metadata": {
        "id": "s9R9HW-f1gFH"
      },
      "source": [
        "names = []\n",
        "kfold_results = []\n",
        "test_results = []\n",
        "train_results = []\n",
        "for i, model in all_models:\n",
        "    names.append(i)\n",
        "    #print(model,i)\n",
        "    kfold = KFold(n_splits=10,random_state=3,shuffle=True)\n",
        "    cv_results = -(cross_val_score(model, x_train, y_train, cv=kfold,scoring='r2'))\n",
        "    kfold_results.append(cv_results)\n",
        "    res = model.fit(x_train, y_train)\n",
        "    train_result = mean_squared_error(res.predict(x_train), y_train)\n",
        "    train_results.append(train_result)\n",
        "    test_result = mean_squared_error(res.predict(x_test), y_test)\n",
        "    test_results.append(test_result)"
      ],
      "execution_count": null,
      "outputs": []
    },
    {
      "cell_type": "code",
      "metadata": {
        "id": "RDtp8UFD1gFH",
        "outputId": "f4ae55e5-232c-4e77-a58c-9f4cfcab5099"
      },
      "source": [
        "fig = pyplot.figure()\n",
        "fig.suptitle('Algorithm Comparison: Kfold results')\n",
        "ax = fig.add_subplot(111)\n",
        "pyplot.boxplot(kfold_results)\n",
        "ax.set_xticklabels(names)\n",
        "fig.set_size_inches(15,8)\n",
        "pyplot.show()"
      ],
      "execution_count": null,
      "outputs": [
        {
          "output_type": "display_data",
          "data": {
            "image/png": "[encoded data removed]",
            "text/plain": [
              "<Figure size 1080x576 with 1 Axes>"
            ]
          },
          "metadata": {
            "tags": [],
            "needs_background": "light"
          }
        }
      ]
    },
    {
      "cell_type": "code",
      "metadata": {
        "id": "SGtAMDF31gFH",
        "outputId": "f2ee0da0-81ab-4448-d32c-a8ff5022973f"
      },
      "source": [
        "fig = pyplot.figure()\n",
        "ind = np.arange(len(names))\n",
        "width = 0.35\n",
        "fig.suptitle('Algorithm Comparison')\n",
        "ax = fig.add_subplot(111)\n",
        "pyplot.bar(ind - width/2, train_results, width=width, label='Train Error')\n",
        "pyplot.bar(ind + width/2, test_results, width=width, label='Test Error')\n",
        "fig.set_size_inches(15,8)\n",
        "pyplot.legend()\n",
        "ax.set_xticks(ind)\n",
        "ax.set_xticklabels(names)\n",
        "pyplot.show()"
      ],
      "execution_count": null,
      "outputs": [
        {
          "output_type": "display_data",
          "data": {
            "image/png": "[encoded data removed]",
            "text/plain": [
              "<Figure size 1080x576 with 1 Axes>"
            ]
          },
          "metadata": {
            "tags": [],
            "needs_background": "light"
          }
        }
      ]
    },
    {
      "cell_type": "code",
      "metadata": {
        "scrolled": true,
        "id": "mPjTnQuO1gFI",
        "outputId": "b3742464-e23c-4536-e9d5-629b546150a0"
      },
      "source": [
        "nn_model = Sequential()\n",
        "nn_model.add(Dense(64, input_dim=8, kernel_initializer='normal', activation='relu'))\n",
        "nn_model.add(Dense(16, activation='relu'))\n",
        "nn_model.add(Dense(4, activation='relu'))\n",
        "nn_model.add(Dense(1, activation='linear'))\n",
        "nn_model.summary()"
      ],
      "execution_count": null,
      "outputs": [
        {
          "output_type": "stream",
          "text": [
            "Model: \"sequential_9\"\n",
            "_________________________________________________________________\n",
            "Layer (type)                 Output Shape              Param #   \n",
            "=================================================================\n",
            "dense_33 (Dense)             (None, 64)                576       \n",
            "_________________________________________________________________\n",
            "dense_34 (Dense)             (None, 16)                1040      \n",
            "_________________________________________________________________\n",
            "dense_35 (Dense)             (None, 4)                 68        \n",
            "_________________________________________________________________\n",
            "dense_36 (Dense)             (None, 1)                 5         \n",
            "=================================================================\n",
            "Total params: 1,689\n",
            "Trainable params: 1,689\n",
            "Non-trainable params: 0\n",
            "_________________________________________________________________\n"
          ],
          "name": "stdout"
        }
      ]
    },
    {
      "cell_type": "code",
      "metadata": {
        "id": "dW7_lqjS1gFI",
        "outputId": "59115a1b-0321-4053-af0c-40d124894eff"
      },
      "source": [
        "nn_model.compile(loss='mse', optimizer='adam', metrics=['mse','mae'])\n",
        "history=nn_model.fit(x_train, y_train, epochs=100, verbose=1)\n",
        "predictions = nn_model.predict(x_test)\n",
        "predictions"
      ],
      "execution_count": null,
      "outputs": [
        {
          "output_type": "stream",
          "text": [
            "Epoch 1/100\n",
            "9/9 [==============================] - 0s 997us/step - loss: 402040651776.0000 - mse: 402040651776.0000 - mae: 166907.6406\n",
            "Epoch 2/100\n",
            "9/9 [==============================] - 0s 1ms/step - loss: 22525319168.0000 - mse: 22525319168.0000 - mae: 39209.1680\n",
            "Epoch 3/100\n",
            "9/9 [==============================] - 0s 997us/step - loss: 14123472896.0000 - mse: 14123472896.0000 - mae: 17780.4297\n",
            "Epoch 4/100\n",
            "9/9 [==============================] - 0s 1ms/step - loss: 1200389.1250 - mse: 1200389.1250 - mae: 73.5691\n",
            "Epoch 5/100\n",
            "9/9 [==============================] - 0s 1ms/step - loss: 468543.4375 - mse: 468543.4375 - mae: 46.4997\n",
            "Epoch 6/100\n",
            "9/9 [==============================] - 0s 1ms/step - loss: 55323.5664 - mse: 55323.5664 - mae: 18.1096\n",
            "Epoch 7/100\n",
            "9/9 [==============================] - 0s 1ms/step - loss: 6241.8091 - mse: 6241.8091 - mae: 7.6584\n",
            "Epoch 8/100\n",
            "9/9 [==============================] - 0s 1ms/step - loss: 236.2882 - mse: 236.2882 - mae: 2.3700\n",
            "Epoch 9/100\n",
            "9/9 [==============================] - 0s 1ms/step - loss: 198.3881 - mse: 198.3881 - mae: 2.0178\n",
            "Epoch 10/100\n",
            "9/9 [==============================] - 0s 1ms/step - loss: 206.0693 - mse: 206.0693 - mae: 2.1371\n",
            "Epoch 11/100\n",
            "9/9 [==============================] - 0s 1ms/step - loss: 175.3884 - mse: 175.3884 - mae: 1.8975\n",
            "Epoch 12/100\n",
            "9/9 [==============================] - 0s 1ms/step - loss: 176.8224 - mse: 176.8224 - mae: 1.9943\n",
            "Epoch 13/100\n",
            "9/9 [==============================] - 0s 1ms/step - loss: 173.0586 - mse: 173.0586 - mae: 1.9406\n",
            "Epoch 14/100\n",
            "9/9 [==============================] - 0s 1ms/step - loss: 171.9135 - mse: 171.9135 - mae: 1.9113\n",
            "Epoch 15/100\n",
            "9/9 [==============================] - 0s 2ms/step - loss: 170.7291 - mse: 170.7291 - mae: 1.8931\n",
            "Epoch 16/100\n",
            "9/9 [==============================] - 0s 1ms/step - loss: 170.0417 - mse: 170.0417 - mae: 1.8558\n",
            "Epoch 17/100\n",
            "9/9 [==============================] - 0s 1ms/step - loss: 171.0455 - mse: 171.0455 - mae: 1.8662\n",
            "Epoch 18/100\n",
            "9/9 [==============================] - 0s 1ms/step - loss: 171.5011 - mse: 171.5011 - mae: 1.8643\n",
            "Epoch 19/100\n",
            "9/9 [==============================] - 0s 997us/step - loss: 168.0977 - mse: 168.0977 - mae: 1.8392\n",
            "Epoch 20/100\n",
            "9/9 [==============================] - 0s 1ms/step - loss: 170.4230 - mse: 170.4230 - mae: 1.9127\n",
            "Epoch 21/100\n",
            "9/9 [==============================] - 0s 997us/step - loss: 168.7040 - mse: 168.7040 - mae: 1.8759\n",
            "Epoch 22/100\n",
            "9/9 [==============================] - 0s 1ms/step - loss: 167.5098 - mse: 167.5098 - mae: 1.8481\n",
            "Epoch 23/100\n",
            "9/9 [==============================] - 0s 1ms/step - loss: 170.8267 - mse: 170.8267 - mae: 1.8611\n",
            "Epoch 24/100\n",
            "9/9 [==============================] - 0s 1ms/step - loss: 175.4887 - mse: 175.4887 - mae: 1.9530\n",
            "Epoch 25/100\n",
            "9/9 [==============================] - 0s 1ms/step - loss: 167.0574 - mse: 167.0574 - mae: 1.8844\n",
            "Epoch 26/100\n",
            "9/9 [==============================] - 0s 1ms/step - loss: 164.0023 - mse: 164.0023 - mae: 1.8411\n",
            "Epoch 27/100\n",
            "9/9 [==============================] - 0s 1ms/step - loss: 173.4847 - mse: 173.4847 - mae: 1.8537\n",
            "Epoch 28/100\n",
            "9/9 [==============================] - 0s 1ms/step - loss: 164.3019 - mse: 164.3019 - mae: 1.7603\n",
            "Epoch 29/100\n",
            "9/9 [==============================] - 0s 1ms/step - loss: 167.0555 - mse: 167.0555 - mae: 1.8706\n",
            "Epoch 30/100\n",
            "9/9 [==============================] - 0s 1ms/step - loss: 165.8979 - mse: 165.8979 - mae: 1.8667\n",
            "Epoch 31/100\n",
            "9/9 [==============================] - 0s 1ms/step - loss: 163.1337 - mse: 163.1337 - mae: 1.7958\n",
            "Epoch 32/100\n",
            "9/9 [==============================] - 0s 1ms/step - loss: 161.8825 - mse: 161.8825 - mae: 1.7764\n",
            "Epoch 33/100\n",
            "9/9 [==============================] - 0s 887us/step - loss: 163.0710 - mse: 163.0710 - mae: 1.8057\n",
            "Epoch 34/100\n",
            "9/9 [==============================] - 0s 1ms/step - loss: 161.1006 - mse: 161.1006 - mae: 1.8018\n",
            "Epoch 35/100\n",
            "9/9 [==============================] - 0s 1ms/step - loss: 159.9619 - mse: 159.9619 - mae: 1.7782\n",
            "Epoch 36/100\n",
            "9/9 [==============================] - 0s 997us/step - loss: 159.4461 - mse: 159.4461 - mae: 1.7750\n",
            "Epoch 37/100\n",
            "9/9 [==============================] - 0s 997us/step - loss: 161.3560 - mse: 161.3560 - mae: 1.7618\n",
            "Epoch 38/100\n",
            "9/9 [==============================] - 0s 1ms/step - loss: 156.8158 - mse: 156.8158 - mae: 1.7363\n",
            "Epoch 39/100\n",
            "9/9 [==============================] - 0s 1ms/step - loss: 157.8511 - mse: 157.8511 - mae: 1.7684\n",
            "Epoch 40/100\n",
            "9/9 [==============================] - 0s 2ms/step - loss: 155.0775 - mse: 155.0775 - mae: 1.7303\n",
            "Epoch 41/100\n",
            "9/9 [==============================] - 0s 1ms/step - loss: 157.1145 - mse: 157.1145 - mae: 1.7350\n",
            "Epoch 42/100\n",
            "9/9 [==============================] - 0s 1ms/step - loss: 157.3124 - mse: 157.3124 - mae: 1.7316\n",
            "Epoch 43/100\n",
            "9/9 [==============================] - 0s 1ms/step - loss: 157.0304 - mse: 157.0304 - mae: 1.7621\n",
            "Epoch 44/100\n",
            "9/9 [==============================] - 0s 1ms/step - loss: 154.6171 - mse: 154.6171 - mae: 1.7412\n",
            "Epoch 45/100\n",
            "9/9 [==============================] - 0s 1ms/step - loss: 154.8202 - mse: 154.8202 - mae: 1.7954\n",
            "Epoch 46/100\n",
            "9/9 [==============================] - 0s 997us/step - loss: 154.3147 - mse: 154.3147 - mae: 1.7064\n",
            "Epoch 47/100\n",
            "9/9 [==============================] - 0s 1ms/step - loss: 155.0940 - mse: 155.0940 - mae: 1.7717\n",
            "Epoch 48/100\n",
            "9/9 [==============================] - 0s 1ms/step - loss: 150.6948 - mse: 150.6948 - mae: 1.6985\n",
            "Epoch 49/100\n",
            "9/9 [==============================] - 0s 1ms/step - loss: 170.2926 - mse: 170.2926 - mae: 1.9734\n",
            "Epoch 50/100\n",
            "9/9 [==============================] - 0s 1ms/step - loss: 154.6318 - mse: 154.6318 - mae: 1.7444\n",
            "Epoch 51/100\n",
            "9/9 [==============================] - 0s 997us/step - loss: 152.9961 - mse: 152.9961 - mae: 1.7647\n",
            "Epoch 52/100\n",
            "9/9 [==============================] - 0s 1ms/step - loss: 151.6379 - mse: 151.6379 - mae: 1.7483\n",
            "Epoch 53/100\n",
            "9/9 [==============================] - 0s 1ms/step - loss: 147.7059 - mse: 147.7059 - mae: 1.6721\n",
            "Epoch 54/100\n",
            "9/9 [==============================] - 0s 997us/step - loss: 150.3180 - mse: 150.3180 - mae: 1.7010\n",
            "Epoch 55/100\n",
            "9/9 [==============================] - 0s 2ms/step - loss: 147.9348 - mse: 147.9348 - mae: 1.6896\n",
            "Epoch 56/100\n",
            "9/9 [==============================] - 0s 1ms/step - loss: 149.5444 - mse: 149.5444 - mae: 1.6764\n",
            "Epoch 57/100\n",
            "9/9 [==============================] - 0s 1ms/step - loss: 149.3568 - mse: 149.3568 - mae: 1.7383\n",
            "Epoch 58/100\n",
            "9/9 [==============================] - 0s 1ms/step - loss: 156.6843 - mse: 156.6843 - mae: 1.8048\n",
            "Epoch 59/100\n",
            "9/9 [==============================] - 0s 1ms/step - loss: 174.0233 - mse: 174.0233 - mae: 1.9667\n",
            "Epoch 60/100\n",
            "9/9 [==============================] - 0s 1ms/step - loss: 209.5242 - mse: 209.5242 - mae: 2.1101\n",
            "Epoch 61/100\n",
            "9/9 [==============================] - 0s 1ms/step - loss: 197.3271 - mse: 197.3271 - mae: 2.0426\n",
            "Epoch 62/100\n",
            "9/9 [==============================] - 0s 1ms/step - loss: 214.6577 - mse: 214.6577 - mae: 2.0347\n",
            "Epoch 63/100\n",
            "9/9 [==============================] - 0s 1ms/step - loss: 185.2644 - mse: 185.2644 - mae: 1.9253\n",
            "Epoch 64/100\n",
            "9/9 [==============================] - 0s 997us/step - loss: 141.4108 - mse: 141.4108 - mae: 1.6994\n",
            "Epoch 65/100\n",
            "9/9 [==============================] - 0s 1ms/step - loss: 190.9003 - mse: 190.9003 - mae: 1.9518\n",
            "Epoch 66/100\n",
            "9/9 [==============================] - 0s 1ms/step - loss: 267.1482 - mse: 267.1482 - mae: 2.1460\n",
            "Epoch 67/100\n",
            "9/9 [==============================] - 0s 1ms/step - loss: 264.1857 - mse: 264.1857 - mae: 2.1337\n",
            "Epoch 68/100\n",
            "9/9 [==============================] - 0s 1ms/step - loss: 428.9416 - mse: 428.9416 - mae: 2.3958\n",
            "Epoch 69/100\n",
            "9/9 [==============================] - 0s 1ms/step - loss: 904.5797 - mse: 904.5797 - mae: 3.0282\n",
            "Epoch 70/100\n",
            "9/9 [==============================] - 0s 1ms/step - loss: 488.3458 - mse: 488.3458 - mae: 2.5645\n",
            "Epoch 71/100\n",
            "9/9 [==============================] - 0s 1ms/step - loss: 168.2255 - mse: 168.2255 - mae: 1.7055\n",
            "Epoch 72/100\n",
            "9/9 [==============================] - 0s 1ms/step - loss: 34.3599 - mse: 34.3599 - mae: 1.0038\n",
            "Epoch 73/100\n",
            "9/9 [==============================] - 0s 997us/step - loss: 449.0055 - mse: 449.0055 - mae: 2.2236\n"
          ],
          "name": "stdout"
        },
        {
          "output_type": "stream",
          "text": [
            "Epoch 74/100\n",
            "9/9 [==============================] - 0s 1ms/step - loss: 597.0605 - mse: 597.0605 - mae: 2.3553\n",
            "Epoch 75/100\n",
            "9/9 [==============================] - 0s 1ms/step - loss: 144.1839 - mse: 144.1839 - mae: 1.5460\n",
            "Epoch 76/100\n",
            "9/9 [==============================] - 0s 1ms/step - loss: 12.4854 - mse: 12.4854 - mae: 0.8268\n",
            "Epoch 77/100\n",
            "9/9 [==============================] - 0s 1ms/step - loss: 4.5266 - mse: 4.5266 - mae: 0.6633\n",
            "Epoch 78/100\n",
            "9/9 [==============================] - 0s 1ms/step - loss: 10.7251 - mse: 10.7251 - mae: 0.7795\n",
            "Epoch 79/100\n",
            "9/9 [==============================] - 0s 1ms/step - loss: 28.8566 - mse: 28.8566 - mae: 0.9553\n",
            "Epoch 80/100\n",
            "9/9 [==============================] - 0s 1ms/step - loss: 10.0293 - mse: 10.0293 - mae: 0.7673\n",
            "Epoch 81/100\n",
            "9/9 [==============================] - 0s 1ms/step - loss: 20.6748 - mse: 20.6748 - mae: 0.8798\n",
            "Epoch 82/100\n",
            "9/9 [==============================] - 0s 1ms/step - loss: 91.3162 - mse: 91.3162 - mae: 1.1640\n",
            "Epoch 83/100\n",
            "9/9 [==============================] - 0s 1ms/step - loss: 195.0145 - mse: 195.0145 - mae: 1.4571\n",
            "Epoch 84/100\n",
            "9/9 [==============================] - 0s 1ms/step - loss: 9.5363 - mse: 9.5363 - mae: 0.7944\n",
            "Epoch 85/100\n",
            "9/9 [==============================] - 0s 1ms/step - loss: 543.8080 - mse: 543.8080 - mae: 2.2663\n",
            "Epoch 86/100\n",
            "9/9 [==============================] - 0s 1ms/step - loss: 1316.4218 - mse: 1316.4218 - mae: 3.3337\n",
            "Epoch 87/100\n",
            "9/9 [==============================] - 0s 1ms/step - loss: 116.7587 - mse: 116.7587 - mae: 1.7190\n",
            "Epoch 88/100\n",
            "9/9 [==============================] - 0s 1ms/step - loss: 15.9578 - mse: 15.9578 - mae: 0.9372\n",
            "Epoch 89/100\n",
            "9/9 [==============================] - 0s 1ms/step - loss: 6.3318 - mse: 6.3318 - mae: 0.7352\n",
            "Epoch 90/100\n",
            "9/9 [==============================] - 0s 1ms/step - loss: 2.7757 - mse: 2.7757 - mae: 0.6095\n",
            "Epoch 91/100\n",
            "9/9 [==============================] - 0s 1ms/step - loss: 2.2259 - mse: 2.2259 - mae: 0.5538\n",
            "Epoch 92/100\n",
            "9/9 [==============================] - 0s 1ms/step - loss: 1.2544 - mse: 1.2544 - mae: 0.5280\n",
            "Epoch 93/100\n",
            "9/9 [==============================] - 0s 1ms/step - loss: 1.0549 - mse: 1.0549 - mae: 0.5319\n",
            "Epoch 94/100\n",
            "9/9 [==============================] - 0s 1ms/step - loss: 0.8283 - mse: 0.8283 - mae: 0.5164\n",
            "Epoch 95/100\n",
            "9/9 [==============================] - 0s 1ms/step - loss: 1.0081 - mse: 1.0081 - mae: 0.5178\n",
            "Epoch 96/100\n",
            "9/9 [==============================] - 0s 1ms/step - loss: 0.8949 - mse: 0.8949 - mae: 0.5235\n",
            "Epoch 97/100\n",
            "9/9 [==============================] - 0s 1ms/step - loss: 0.7614 - mse: 0.7614 - mae: 0.5136\n",
            "Epoch 98/100\n",
            "9/9 [==============================] - 0s 1ms/step - loss: 0.7391 - mse: 0.7391 - mae: 0.4979\n",
            "Epoch 99/100\n",
            "9/9 [==============================] - 0s 1ms/step - loss: 0.7796 - mse: 0.7796 - mae: 0.5034\n",
            "Epoch 100/100\n",
            "9/9 [==============================] - 0s 1ms/step - loss: 0.6731 - mse: 0.6731 - mae: 0.4990\n",
            "WARNING:tensorflow:5 out of the last 13 calls to <function Model.make_predict_function.<locals>.predict_function at 0x000002BF4CFA2D30> triggered tf.function retracing. Tracing is expensive and the excessive number of tracings could be due to (1) creating @tf.function repeatedly in a loop, (2) passing tensors with different shapes, (3) passing Python objects instead of tensors. For (1), please define your @tf.function outside of the loop. For (2), @tf.function has experimental_relax_shapes=True option that relaxes argument shapes that can avoid unnecessary retracing. For (3), please refer to https://www.tensorflow.org/tutorials/customization/performance#python_or_tensor_args and https://www.tensorflow.org/api_docs/python/tf/function for  more details.\n"
          ],
          "name": "stdout"
        },
        {
          "output_type": "execute_result",
          "data": {
            "text/plain": [
              "array([[-0.00977434],\n",
              "       [-0.00977434],\n",
              "       [-0.00977434],\n",
              "       [-0.00977434],\n",
              "       [-0.00977434],\n",
              "       [-0.00977434],\n",
              "       [-0.00977434],\n",
              "       [-0.00977434],\n",
              "       [-0.00977434],\n",
              "       [-0.00977434],\n",
              "       [-0.00977434],\n",
              "       [-0.00977434],\n",
              "       [-0.00977434],\n",
              "       [-0.00977434],\n",
              "       [-0.00977434],\n",
              "       [-0.00977434],\n",
              "       [-0.00977434],\n",
              "       [-0.00977434],\n",
              "       [-0.00977434],\n",
              "       [-0.00977434],\n",
              "       [-0.00977434],\n",
              "       [-0.00977434],\n",
              "       [-0.00977434],\n",
              "       [-0.00977434],\n",
              "       [-0.00977434],\n",
              "       [-0.00977434],\n",
              "       [-0.00977434],\n",
              "       [-0.00977434],\n",
              "       [-0.00977434],\n",
              "       [-0.00977434],\n",
              "       [-0.00977434],\n",
              "       [-0.00977434],\n",
              "       [-0.00977434],\n",
              "       [-0.00977434],\n",
              "       [-0.00977434],\n",
              "       [-0.00977434],\n",
              "       [-0.00977434],\n",
              "       [-0.00977434],\n",
              "       [-0.00977434],\n",
              "       [-0.00977434],\n",
              "       [-0.00977434],\n",
              "       [-0.00977434],\n",
              "       [-0.00977434],\n",
              "       [-0.00977434],\n",
              "       [-0.00977434],\n",
              "       [-0.00977434],\n",
              "       [-0.00977434],\n",
              "       [-0.00977434],\n",
              "       [-0.00977434],\n",
              "       [-0.00977434],\n",
              "       [-0.00977434],\n",
              "       [-0.00977434],\n",
              "       [-0.00977434],\n",
              "       [-0.00977434],\n",
              "       [-0.83408463],\n",
              "       [-0.00977434],\n",
              "       [-0.00977434],\n",
              "       [-0.00977434],\n",
              "       [-0.00977434],\n",
              "       [-0.00977434],\n",
              "       [-0.00977434],\n",
              "       [-0.00977434],\n",
              "       [-0.00977434],\n",
              "       [-0.00977434],\n",
              "       [-0.00977434],\n",
              "       [-0.00977434],\n",
              "       [-0.00977434],\n",
              "       [-0.00977434],\n",
              "       [-0.00977434],\n",
              "       [-0.00977434],\n",
              "       [-0.00977434]], dtype=float32)"
            ]
          },
          "metadata": {
            "tags": []
          },
          "execution_count": 180
        }
      ]
    },
    {
      "cell_type": "code",
      "metadata": {
        "id": "2yvdHiT11gFJ",
        "outputId": "1046ae7a-50c6-467f-ade9-97cab56f5d86"
      },
      "source": [
        "y"
      ],
      "execution_count": null,
      "outputs": [
        {
          "output_type": "execute_result",
          "data": {
            "text/plain": [
              "1      0.199511\n",
              "2      0.641458\n",
              "3      0.589943\n",
              "4      0.434127\n",
              "5      0.228218\n",
              "         ...   \n",
              "351    0.352094\n",
              "352    0.357442\n",
              "353    0.352094\n",
              "354    0.352094\n",
              "355    0.352094\n",
              "Name: TrueRiskTolerance, Length: 355, dtype: float64"
            ]
          },
          "metadata": {
            "tags": []
          },
          "execution_count": 181
        }
      ]
    },
    {
      "cell_type": "code",
      "metadata": {
        "id": "K7VsNuDQ1gFJ"
      },
      "source": [
        ""
      ],
      "execution_count": null,
      "outputs": []
    }
  ]
}